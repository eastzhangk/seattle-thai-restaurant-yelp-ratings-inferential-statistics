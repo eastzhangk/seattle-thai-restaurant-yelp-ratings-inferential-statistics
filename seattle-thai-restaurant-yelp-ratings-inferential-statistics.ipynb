{
 "cells": [
  {
   "cell_type": "markdown",
   "id": "b5f9a64d",
   "metadata": {},
   "source": [
    "Aroy Mak Thai Food the best Thai restaurant in Seattle (between 3 competitors)?\n",
    "\n",
    "Contenders:\n",
    "1. Aroy Mak Thai Food (https://www.yelp.com/biz/aroy-mak-thai-food-seattle-3?osq=Aroy+Mak+Thai+Food&rr=1#reviews)\n",
    "2. Isarn Thai Soul Kitchen (https://www.yelp.com/biz/isarn-thai-soul-kitchen-kirkland-2?osq=Isarn+Thai+Soul+Kitchen&rr=1#reviews)\n",
    "3. Fern Thai on Main (https://www.yelp.com/biz/fern-thai-on-main-bellevue?osq=Fern+Thai+on+Main#reviews)\n",
    "\n",
    "Rating data retrieved on 5/18/2025."
   ]
  },
  {
   "cell_type": "code",
   "execution_count": null,
   "id": "ac8d455d",
   "metadata": {},
   "outputs": [],
   "source": [
    "# Import packages \n",
    "import numpy as np\n",
    "import pandas as pd\n",
    "import matplotlib.pyplot as plt\n",
    "import seaborn as sns"
   ]
  },
  {
   "cell_type": "code",
   "execution_count": null,
   "id": "550ce45e",
   "metadata": {},
   "outputs": [],
   "source": [
    "# Ratings across entire Yelp history\n",
    "aroy_ratings = np.concatenate([\n",
    "    np.repeat(5, 229),\n",
    "    np.repeat(4, 17),\n",
    "    np.repeat(3, 6),\n",
    "    np.repeat(2, 0),\n",
    "    np.repeat(1, 1)\n",
    "])\n",
    "\n",
    "isarn_thai_ratings = np.concatenate([\n",
    "    np.repeat(5, 760),\n",
    "    np.repeat(4, 328),\n",
    "    np.repeat(3, 115),\n",
    "    np.repeat(2, 77),\n",
    "    np.repeat(1, 83)\n",
    "])\n",
    "\n",
    "fern_thai_ratings = np.concatenate([\n",
    "    np.repeat(5, 420),\n",
    "    np.repeat(4, 182),\n",
    "    np.repeat(3, 73),\n",
    "    np.repeat(2, 28),\n",
    "    np.repeat(1, 59)\n",
    "])"
   ]
  },
  {
   "cell_type": "code",
   "execution_count": null,
   "id": "2d2c1d6a",
   "metadata": {},
   "outputs": [],
   "source": [
    "# Yelp Ratings are based on mean\n",
    "print(f'Aroy Mak Thai Food Rating (average): {round(aroy_ratings.mean(),1)}')\n",
    "print(f'Isarn Thai Soul Kitchen Rating (average): {round(isarn_thai_ratings.mean(),1)}')\n",
    "print(f'Fern Thai Rating (average): {round(fern_thai_ratings.mean(),1)}')\n",
    "\n",
    "print(f'Aroy Mak Thai Food Rating (std): {round(aroy_ratings.std(),1)}')\n",
    "print(f'Isarn Thai Soul Kitchen Rating (std): {round(isarn_thai_ratings.std(),1)}')\n",
    "print(f'Fern Thai Rating (std): {round(fern_thai_ratings.std(),1)}')\n"
   ]
  },
  {
   "cell_type": "code",
   "execution_count": null,
   "id": "1c8d7c3b",
   "metadata": {},
   "outputs": [],
   "source": [
    "restaurant_names = ['Aroy Mak Thai Food', 'Isarn Thai Soul Kitchen', 'Fern Thai']\n",
    "restaurant_ratings = [aroy_ratings, isarn_thai_ratings, fern_thai_ratings]\n",
    "\n",
    "def plot_hist(data, name):\n",
    "    plt.hist(x=data)\n",
    "    plt.title(f'{name} Ratings Histogram')\n",
    "    plt.xlabel('Rating')\n",
    "    plt.ylabel('Count')\n",
    "    plt.xticks([1,2,3,4,5])\n",
    "    plt.show() \n",
    "\n",
    "for idx, val in enumerate(restaurant_ratings):\n",
    "    plot_hist(data=val, name=restaurant_names[idx])"
   ]
  },
  {
   "cell_type": "markdown",
   "id": "2a3bfd03",
   "metadata": {},
   "source": [
    "### One-way ANOVA"
   ]
  },
  {
   "cell_type": "markdown",
   "id": "77795d01",
   "metadata": {},
   "source": [
    "Null Hypothesis (H0): All restaurants have the same average rating \\\n",
    "Alternative Hypothesis (H1): At least one restaurant has a different mean rating"
   ]
  },
  {
   "cell_type": "code",
   "execution_count": null,
   "id": "ba148e56",
   "metadata": {},
   "outputs": [],
   "source": [
    "from scipy.stats import f_oneway\n",
    "\n",
    "f_stat, p_val = f_oneway(aroy_ratings, isarn_thai_ratings, fern_thai_ratings)\n",
    "print(f\"F-statistic: {f_stat:.3f}\")\n",
    "print(f\"P-value: {p_val:.4f}\")"
   ]
  },
  {
   "cell_type": "markdown",
   "id": "8256b383",
   "metadata": {},
   "source": [
    "p-value (0.000) < 0.05 suggests that if the null hypothesis were true, there is a 0.000 chance that this difference exists. Therefore, we reject the null hypothesis that all restaurants have the same average rating. "
   ]
  },
  {
   "cell_type": "markdown",
   "id": "d0d8c976",
   "metadata": {},
   "source": [
    "### Pairwise T-Test"
   ]
  },
  {
   "cell_type": "markdown",
   "id": "bc7d9067",
   "metadata": {},
   "source": [
    "#### Two-tailed t-test\n",
    "Null Hypothesis (H0): Restaurant A has the same average rating as Restaurant B \\\n",
    "Alternative Hypothesis (H1): Restaurant A and Restaurant B have different ratings"
   ]
  },
  {
   "cell_type": "code",
   "execution_count": null,
   "id": "4a9da24b",
   "metadata": {},
   "outputs": [],
   "source": [
    "from scipy.stats import ttest_ind\n",
    "\n",
    "# Pairwise t-tests (Welch’s t-test for unequal variances)\n",
    "t_AI, p_AI = ttest_ind(aroy_ratings, isarn_thai_ratings, equal_var=False)\n",
    "t_AF, p_AF = ttest_ind(aroy_ratings, fern_thai_ratings, equal_var=False)\n",
    "t_IF, p_IF = ttest_ind(isarn_thai_ratings, fern_thai_ratings, equal_var=False)\n",
    "\n",
    "print(f\"Aroy Mak Thai Food vs Isarn Thai Soul Kitchen → t = {t_AI:.3f}, p = {p_AI:.4f}\")\n",
    "print(f\"Aroy Mak Thai Food vs Fern Thai on Main → t = {t_AF:.3f}, p = {p_AF:.4f}\")\n",
    "print(f\"Isarn Thai Soul Kitchen vs Fern Thai on Main → t = {t_IF:.3f}, p = {p_IF:.4f}\")"
   ]
  },
  {
   "cell_type": "markdown",
   "id": "8b85d9a8",
   "metadata": {},
   "source": [
    "1) Aroy Mak Thai Food has a different average rating than both Isarn Thai and Fern Thai with p-values < 0.05 \\\n",
    "2) Isarn Thai and Fern Thai do not have a statistically different rating"
   ]
  },
  {
   "cell_type": "markdown",
   "id": "8dafc1d6",
   "metadata": {},
   "source": [
    "#### One-tailed t-test\n",
    "Null Hypothesis (H0): Aroy Mak has a mean rating less than or equal to Isarn / Fern Thai \\\n",
    "Alternative Hypothesis (H1): Aroy Mak has a higher rating"
   ]
  },
  {
   "cell_type": "code",
   "execution_count": null,
   "id": "b92c8079",
   "metadata": {},
   "outputs": [],
   "source": [
    "# One-tailed p-value: divide by 2 and check direction of t-stat\n",
    "p_AI_one = p_AI / 2 if t_AI > 0 else 1 - (p_AI / 2)\n",
    "p_AF_one = p_AF / 2 if t_AF > 0 else 1 - (p_AF / 2)\n",
    "\n",
    "print(f\"Aroy > Isarn? t = {t_AI:.3f}, one-tailed p = {p_AI:.4f}\")\n",
    "print(f\"Aroy > Fern?  t = {t_AF:.3f}, one-tailed p = {p_AF:.4f}\")"
   ]
  },
  {
   "cell_type": "code",
   "execution_count": null,
   "id": "22048f5b",
   "metadata": {},
   "outputs": [],
   "source": [
    "# Compute means and standard errors\n",
    "means = [np.mean(r) for r in restaurant_ratings]\n",
    "ses = [np.std(r, ddof=1) / np.sqrt(len(r)) for r in restaurant_ratings]  # standard error of the mean\n",
    "\n",
    "plt.figure(figsize=(8, 6))\n",
    "plt.bar(restaurant_names, means, yerr=ses, capsize=10, color=['#4CAF50', '#FFC107', '#03A9F4'])\n",
    "plt.ylabel('Average Rating')\n",
    "plt.title('Average Yelp Ratings with Standard Error')\n",
    "plt.ylim(0, 5.5)\n",
    "plt.grid(axis='y', linestyle='--', alpha=0.7)\n",
    "plt.show()"
   ]
  },
  {
   "cell_type": "code",
   "execution_count": null,
   "id": "27b2f30d",
   "metadata": {},
   "outputs": [],
   "source": [
    "def cohens_d(a, b):\n",
    "    pooled_std = np.sqrt(((np.std(a, ddof=1) ** 2) + (np.std(b, ddof=1) ** 2)) / 2)\n",
    "    return (np.mean(a) - np.mean(b)) / pooled_std\n",
    "\n",
    "print(\"Aroy vs Isarn effect size:\", round(cohens_d(aroy_ratings, isarn_thai_ratings),1))\n",
    "print(\"Aroy vs Fern effect size:\", round(cohens_d(aroy_ratings, fern_thai_ratings),1))"
   ]
  },
  {
   "cell_type": "code",
   "execution_count": null,
   "id": "c632a8bc",
   "metadata": {},
   "outputs": [],
   "source": [
    "def bootstrap_ci(data, n_bootstrap=1000, alpha=0.05):\n",
    "    means = [np.mean(np.random.choice(data, size=len(data), replace=True)) for _ in range(n_bootstrap)]\n",
    "    lower = np.percentile(means, 100 * (alpha / 2))\n",
    "    upper = np.percentile(means, 100 * (1 - alpha / 2))\n",
    "    return lower, upper\n",
    "\n",
    "print(\"95% CI for Aroy mean:\", bootstrap_ci(aroy_ratings))\n",
    "print(\"95% CI for Isarn Thai mean:\", bootstrap_ci(isarn_thai_ratings))\n",
    "print(\"95% CI for Fern Thai mean:\", bootstrap_ci(fern_thai_ratings))"
   ]
  },
  {
   "cell_type": "code",
   "execution_count": null,
   "id": "5629c3de",
   "metadata": {},
   "outputs": [],
   "source": [
    "means = [np.mean(aroy_ratings), np.mean(isarn_thai_ratings), np.mean(fern_thai_ratings)]\n",
    "cis_lower = [4.8142, 4.1152, 4.0630]\n",
    "cis_upper = [4.9170, 4.2414, 4.2310]\n",
    "errors = [mean - low for mean, low in zip(means, cis_lower)]\n",
    "\n",
    "plt.figure(figsize=(8, 6))\n",
    "plt.bar(restaurant_names, means, yerr=errors, capsize=10, color=['#4CAF50', '#FFC107', '#03A9F4'])\n",
    "plt.ylabel('Average Rating')\n",
    "plt.title('95% Confidence Intervals of Yelp Ratings for Thai Restaurants in Seattle')\n",
    "plt.ylim(3.8, 5.2)\n",
    "plt.grid(axis='y', linestyle='--', alpha=0.7)\n",
    "plt.show()"
   ]
  }
 ],
 "metadata": {
  "kernelspec": {
   "display_name": "myenv",
   "language": "python",
   "name": "python3"
  },
  "language_info": {
   "codemirror_mode": {
    "name": "ipython",
    "version": 3
   },
   "file_extension": ".py",
   "mimetype": "text/x-python",
   "name": "python",
   "nbconvert_exporter": "python",
   "pygments_lexer": "ipython3",
   "version": "3.10.16"
  }
 },
 "nbformat": 4,
 "nbformat_minor": 5
}
